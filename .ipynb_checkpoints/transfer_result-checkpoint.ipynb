{
 "cells": [
  {
   "cell_type": "code",
   "execution_count": 66,
   "metadata": {
    "scrolled": true
   },
   "outputs": [
    {
     "name": "stdout",
     "output_type": "stream",
     "text": [
      "nodebias     0    0.3233 0.4792\n",
      "nodebias     1    0.3533 0.5423\n",
      "nodebias     2    0.2608 0.5423\n",
      "nodebias     3    0.3577  0.505\n",
      "nodebias     4    0.1201 0.5035\n",
      "nodebias     5    0.1647 0.5264\n",
      "nodebias     6    0.0914 0.4041\n",
      "nodebias     7    0.0537  0.322\n",
      "nodebias     8    0.0005 0.3019\n",
      "nodebias     9    0.0084  0.247\n",
      "eo_mean: 0.17339000000000002, err_mean: 0.43737000000000004\n",
      "laftr        0    0.2213 0.5636\n",
      "laftr        1     0.102 0.6635\n",
      "laftr        2    0.1027 0.6369\n",
      "laftr        3    0.0762 0.6347\n",
      "laftr        4    0.0643 0.5054\n",
      "laftr        5    0.0488 0.5374\n",
      "laftr        6    0.0121 0.4205\n",
      "laftr        7    0.0202 0.3199\n",
      "laftr        8       0.0 0.3012\n",
      "laftr        9    0.0205 0.2513\n",
      "eo_mean: 0.06681, err_mean: 0.48344\n",
      "cfair        0    0.2269 0.5845\n",
      "cfair        1    0.2138 0.6072\n",
      "cfair        2    0.1342 0.5565\n",
      "cfair        3    0.0977  0.637\n",
      "cfair        4    0.0227 0.4985\n",
      "cfair        5    0.0794 0.5363\n",
      "cfair        6    0.0087 0.4205\n",
      "cfair        7    0.0015 0.3217\n",
      "cfair        8    0.0005 0.3012\n",
      "cfair        9     0.008 0.2438\n",
      "eo_mean: 0.07934, err_mean: 0.47072\n",
      "==========target_unfair===========\n",
      "nodebias     0    0.2843 0.4046\n",
      "nodebias     1    0.3471 0.4722\n",
      "nodebias     2    0.1511  0.425\n",
      "nodebias     3    0.3226 0.3759\n",
      "nodebias     4    0.0051 0.4682\n",
      "nodebias     5    0.1371 0.4985\n",
      "nodebias     6    0.2388  0.313\n",
      "nodebias     7    0.1133 0.2939\n",
      "nodebias     8    0.0291 0.2851\n",
      "nodebias     9    0.0635 0.2276\n",
      "eo_mean: 0.16919999999999996, err_mean: 0.37639999999999996\n"
     ]
    }
   ],
   "source": [
    "import json\n",
    "\n",
    "result_path = 'results_health_all_lambda_1_new.json'\n",
    "\n",
    "with open(result_path, 'r') as f:\n",
    "    results = json.load(f)\n",
    "    \n",
    "count = 10\n",
    "methods = ['nodebias','laftr','cfair']\n",
    "for m in methods:\n",
    "    eo_mean = 0\n",
    "    err_mean = 0\n",
    "    for idx in range(count):\n",
    "        eo = round(results['transfer'][m][str(idx)]['EO'],4)\n",
    "        err = round(results['transfer'][m][str(idx)]['JointErr'],4)\n",
    "        eo_mean = eo_mean + eo\n",
    "        err_mean = err_mean + err\n",
    "        print(f'{m:10} {idx:3}    {eo:6} {err:6}')\n",
    "    eo_mean = eo_mean / float(count)\n",
    "    err_mean = err_mean / float(count)\n",
    "    print(f'eo_mean: {eo_mean}, err_mean: {err_mean}')\n",
    "\n",
    "print('==========target_unfair===========')\n",
    "results['target_unfair']\n",
    "eo_mean = 0\n",
    "err_mean = 0\n",
    "for idx in range(count):\n",
    "    eo = round(results['target_unfair']['nodebias'][str(idx)]['EO'],4)\n",
    "    err = round(results['target_unfair']['nodebias'][str(idx)]['JointErr'],4)\n",
    "    print(f'nodebias   {idx:3}    {eo:6} {err:6}')\n",
    "    eo_mean = eo_mean + eo\n",
    "    err_mean = err_mean + err\n",
    "eo_mean = eo_mean / float(count)\n",
    "err_mean = err_mean / float(count)\n",
    "print(f'eo_mean: {eo_mean}, err_mean: {err_mean}')\n"
   ]
  }
 ],
 "metadata": {
  "kernelspec": {
   "display_name": "Python 3",
   "language": "python",
   "name": "python3"
  },
  "language_info": {
   "codemirror_mode": {
    "name": "ipython",
    "version": 3
   },
   "file_extension": ".py",
   "mimetype": "text/x-python",
   "name": "python",
   "nbconvert_exporter": "python",
   "pygments_lexer": "ipython3",
   "version": "3.6.3"
  }
 },
 "nbformat": 4,
 "nbformat_minor": 2
}
